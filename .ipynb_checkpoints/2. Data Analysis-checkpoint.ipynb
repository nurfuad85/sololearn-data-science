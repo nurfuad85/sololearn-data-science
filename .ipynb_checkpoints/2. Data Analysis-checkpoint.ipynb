{
 "cells": [
  {
   "cell_type": "code",
   "execution_count": 2,
   "id": "79e6aa6e",
   "metadata": {},
   "outputs": [
    {
     "name": "stdout",
     "output_type": "stream",
     "text": [
      "(45, 4)\n",
      "180\n"
     ]
    }
   ],
   "source": [
    "# Inspect a DataFrame - Shape and Size\n",
    "import pandas as pd\n",
    "\n",
    "presidents_df = pd.read_csv('datasets/president_heights_party.csv', index_col='name')\n",
    "                                  \n",
    "print(presidents_df.shape)\n",
    "print(presidents_df.size)"
   ]
  },
  {
   "cell_type": "code",
   "execution_count": 3,
   "id": "ba5812d0",
   "metadata": {},
   "outputs": [
    {
     "data": {
      "text/html": [
       "<div>\n",
       "<style scoped>\n",
       "    .dataframe tbody tr th:only-of-type {\n",
       "        vertical-align: middle;\n",
       "    }\n",
       "\n",
       "    .dataframe tbody tr th {\n",
       "        vertical-align: top;\n",
       "    }\n",
       "\n",
       "    .dataframe thead th {\n",
       "        text-align: right;\n",
       "    }\n",
       "</style>\n",
       "<table border=\"1\" class=\"dataframe\">\n",
       "  <thead>\n",
       "    <tr style=\"text-align: right;\">\n",
       "      <th></th>\n",
       "      <th>order</th>\n",
       "      <th>age</th>\n",
       "      <th>height</th>\n",
       "      <th>party</th>\n",
       "    </tr>\n",
       "    <tr>\n",
       "      <th>name</th>\n",
       "      <th></th>\n",
       "      <th></th>\n",
       "      <th></th>\n",
       "      <th></th>\n",
       "    </tr>\n",
       "  </thead>\n",
       "  <tbody>\n",
       "    <tr>\n",
       "      <th>George Washington</th>\n",
       "      <td>1</td>\n",
       "      <td>57</td>\n",
       "      <td>189</td>\n",
       "      <td>none</td>\n",
       "    </tr>\n",
       "    <tr>\n",
       "      <th>John Adams</th>\n",
       "      <td>2</td>\n",
       "      <td>61</td>\n",
       "      <td>170</td>\n",
       "      <td>federalist</td>\n",
       "    </tr>\n",
       "    <tr>\n",
       "      <th>Thomas Jefferson</th>\n",
       "      <td>3</td>\n",
       "      <td>57</td>\n",
       "      <td>189</td>\n",
       "      <td>democratic-republican</td>\n",
       "    </tr>\n",
       "    <tr>\n",
       "      <th>James Madison</th>\n",
       "      <td>4</td>\n",
       "      <td>57</td>\n",
       "      <td>163</td>\n",
       "      <td>democratic-republican</td>\n",
       "    </tr>\n",
       "    <tr>\n",
       "      <th>James Monroe</th>\n",
       "      <td>5</td>\n",
       "      <td>58</td>\n",
       "      <td>183</td>\n",
       "      <td>democratic-republican</td>\n",
       "    </tr>\n",
       "  </tbody>\n",
       "</table>\n",
       "</div>"
      ],
      "text/plain": [
       "                   order  age  height                  party\n",
       "name                                                        \n",
       "George Washington      1   57     189                   none\n",
       "John Adams             2   61     170             federalist\n",
       "Thomas Jefferson       3   57     189  democratic-republican\n",
       "James Madison          4   57     163  democratic-republican\n",
       "James Monroe           5   58     183  democratic-republican"
      ]
     },
     "execution_count": 3,
     "metadata": {},
     "output_type": "execute_result"
    }
   ],
   "source": [
    "presidents_df.head()"
   ]
  },
  {
   "cell_type": "code",
   "execution_count": null,
   "id": "f4ce7d27",
   "metadata": {},
   "outputs": [],
   "source": []
  }
 ],
 "metadata": {
  "kernelspec": {
   "display_name": "Python 3",
   "language": "python",
   "name": "python3"
  },
  "language_info": {
   "codemirror_mode": {
    "name": "ipython",
    "version": 3
   },
   "file_extension": ".py",
   "mimetype": "text/x-python",
   "name": "python",
   "nbconvert_exporter": "python",
   "pygments_lexer": "ipython3",
   "version": "3.9.2"
  }
 },
 "nbformat": 4,
 "nbformat_minor": 5
}
