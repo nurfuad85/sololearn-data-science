{
 "cells": [
  {
   "cell_type": "markdown",
   "id": "ef905a5c",
   "metadata": {},
   "source": [
    "# Data Manipulation  \n",
    "\n",
    "## Intro\n",
    "**Data Scientist**  \n",
    "The term “data scientist” was coined as recently as 2008 when companies realized the need for data professionals who are skilled in organizing and analyzing massive amounts of data. In a 2009 McKinsey&Company article, Hal Varian, Google's chief economist and UC Berkeley professor of information sciences, business, and economics, predicted the importance of adapting to technology’s influence and reconfiguration of different industries. “The ability to take data — to be able to understand it, to process it, to extract value from it, to visualize it, to communicate it — that’s going to be a hugely important skill in the next decades.” Hal Varian, chief economist at Google and UC Berkeley professor of information sciences, business, and economics. Effective data scientists are able to identify relevant questions, collect data from a multitude of different data sources, organize the information, translate results into solutions, and communicate their findings in a way that positively affects business decisions\n",
    "\n",
    "**What is Data Science?**  \n",
    "\n",
    "There are many use cases in business for data science including finding a better housing price prediction algorithm for Zillow, finding key attributes associated with wine quality, and building a recommendation system to increase the click-through-rate for Amazon.\n",
    "\n",
    "Extracting insights from seemingly random data, data science normally involves collecting data, cleaning data, performing exploratory data analysis, building and evaluating machine learning models, and communicating insights to stakeholders.\n",
    "Data science is a multidisciplinary field that unifies statistics, data analysis, machine learning and their related methods to extract knowledge and insights.\n",
    "\n",
    "**What is Data Science?**  \n",
    "\n",
    "There are many use cases in business for data science including finding a better housing price prediction algorithm for Zillow, finding key attributes associated with wine quality, and building a recommendation system to increase the click-through-rate for Amazon.\n",
    "\n",
    "Extracting insights from seemingly random data, data science normally involves collecting data, cleaning data, performing exploratory data analysis, building and evaluating machine learning models, and communicating insights to stakeholders.\n",
    "\n",
    "Data science is a multidisciplinary field that unifies statistics, data analysis, machine learning and their related methods to extract knowledge and insights."
   ]
  },
  {
   "cell_type": "markdown",
   "id": "1d6c4b63",
   "metadata": {},
   "source": [
    "**Related Terms**    \n",
    "In Data Analysis performing (EDA)\"exploratory data analysis\" is the Main Part and after EDA build (ML)\"machine learning\" models is the main part in AI (Artificial Intelligence). So, Both EDA and ML is the Main Parts in (DS) Data Science. DS= EDA+AI+NLP, AI= DL+ML, NLP= NN+NP. DS - Data Science EDA - Exploratory Data Analysis AI - Artificial Intelligence DL - Deep Learning ML - Machine Learning In Data Science: NLP - Natural Language Processing In Robotics: NLP - Neural Language Processing NN - Neural Networking NP - Neural Programming.  \n",
    "\n",
    "**Why Python?**  \n",
    "In this Introduction to Data Science course we’re learning data science with Python. As a general-purpose programming language, Python is now the most popular programming language in data science. It’s easy to use, has great community support, and integrates well with other frameworks (e.g., web applications) in an engineering environment.\n",
    "\n",
    "This course focuses on exploratory data analysis with three fundamental Python libraries: numpy, pandas and matplotlib. The machine learning library scikit-learn will be covered as well.\n",
    "\n",
    "In the later modules, we will be predicting home values using linear regression, identifying classes of iris with classification algorithms, and finding clusters within wines, just a few examples of what we can do in data science.  \n",
    "In data science, there are other popular programming languages, such as R, which has an edge in statistical modeling."
   ]
  },
  {
   "cell_type": "markdown",
   "id": "dc64711d",
   "metadata": {},
   "source": [
    "**Numerical Data**  \n",
    "Datasets come from a wide range of sources and formats: it could be collections of numerical measurements, text corpus, images, audio clips, or basically anything. No matter the format, the first step in data science is to transform it into arrays of numbers.\n",
    "\n",
    "We collected 45 U.S. president heights in centimeters in chronological order and stored them in a list, a built-in data type in python.\n",
    "heights = [189, 170, 189, 163, 183, 171, 185, 168, 173, 183, 173, 173, 175, 178, 183, 193, 178, 173, 174, 183, 183, 180, 168, 180, 170, 178, 182, 180, 183, 178, 182, 188, 175, 179, 183, 193, 182, 183, 177, 185, 188, 188, 182, 185, 191]\n",
    "In this example, George Washington was the first president, and his height was 189 cm.\n",
    "\n",
    "If we wanted to know how many presidents are taller than 188cm, we could iterate through the list, compare each element against 188, and increase the count by 1 as the criteria is met."
   ]
  },
  {
   "cell_type": "code",
   "execution_count": 1,
   "id": "0f6f00c2",
   "metadata": {},
   "outputs": [
    {
     "name": "stdout",
     "output_type": "stream",
     "text": [
      "5\n"
     ]
    }
   ],
   "source": [
    "heights = [189, 170, 189, 163, 183, 171, 185, 168, 173, 183, 173, 173, 175, 178, 183, 193, 178, 173, 174, 183, 183, 180, 168, 180, 170, 178, 182, 180, 183, 178, 182, 188, 175, 179, 183, 193, 182, 183, 177, 185, 188, 188, 182, 185, 191]\n",
    "\n",
    "cnt = 0\n",
    "for height in heights:\n",
    "    if height > 188:\n",
    "        cnt +=1\n",
    "print(cnt)"
   ]
  },
  {
   "cell_type": "code",
   "execution_count": 3,
   "id": "9beb8a96",
   "metadata": {},
   "outputs": [
    {
     "name": "stdout",
     "output_type": "stream",
     "text": [
      "5\n"
     ]
    }
   ],
   "source": [
    "# Numpy (Numerical Python) is made for readability and faster execution of large math computations. \n",
    "import numpy as np \n",
    "# convert to numpy array \n",
    "heights = np.array(heights) \n",
    "# count the True \n",
    "count = (heights > 188).sum() \n",
    "print(count)\n",
    "# or simply print((np.array(heights)>188).sum())"
   ]
  },
  {
   "cell_type": "code",
   "execution_count": 4,
   "id": "7572dbf3",
   "metadata": {},
   "outputs": [
    {
     "name": "stdout",
     "output_type": "stream",
     "text": [
      "(45,)\n"
     ]
    }
   ],
   "source": [
    "import numpy as np\n",
    "\n",
    "heights = [189, 170, 189, 163, 183, 171, 185, 168, 173, 183, 173, 173, 175, 178, 183, 193, 178, 173, 174, 183, 183, 180, 168, 180, 170, 178, 182, 180, 183, 178, 182, 188, 175, 179, 183, 193, 182, 183, 177, 185, 188, 188, 182, 185, 191]\n",
    "\n",
    "heights_arr = np.array(heights)\n",
    "print(heights_arr.shape) #also have arr.size properties"
   ]
  },
  {
   "cell_type": "markdown",
   "id": "5b7a1b22",
   "metadata": {},
   "source": [
    "**Reshape**  \n",
    "\n",
    "Other data we have collected includes the ages of the presidents:\n",
    "ages = [57, 61, 57, 57, 58, 57, 61, 54, 68, 51, 49, 64, 50, 48, 65, 52, 56, 46, 54, 49, 51, 47, 55, 55, 54, 42, 51, 56, 55, 51, 54, 51, 60, 62, 43, 55, 56, 61, 52, 69, 64, 46, 54, 47, 70]  \n",
    "\n",
    "Since both heights and ages are all about the same presidents, we can combine them:\n",
    "This produces one long array. It would be clearer if we could align height and age for each president and reorganize the data into a 2 by 45 matrix where the first row contains all heights and the second row contains ages. To achieve this, a new array can be created by calling numpy.ndarray.reshape with new dimensions specified in a tuple:\n",
    "The reshaped array is now a 2darray, yet note that the original array is not changed. We can reshape an array in multiple ways, as long as the size of the reshaped array matches that of the original.  \n",
    "Numpy can calculate the shape (dimension) for us if we indicate the unknown dimension as -1. For example, given a 2darray `arr` of shape (3,4), arr.reshape(-1) would output a 1darray of shape (12,), while arr.reshape((-1,2)) would generate a 2darray of shape (6,2)."
   ]
  },
  {
   "cell_type": "code",
   "execution_count": 5,
   "id": "78196df0",
   "metadata": {},
   "outputs": [
    {
     "name": "stdout",
     "output_type": "stream",
     "text": [
      "[[189 170 189 163 183 171 185 168 173 183 173 173 175 178 183 193 178 173\n",
      "  174 183 183 180 168 180 170 178 182 180 183 178 182 188 175 179 183 193\n",
      "  182 183 177 185 188 188 182 185 191]\n",
      " [ 57  61  57  57  58  57  61  54  68  51  49  64  50  48  65  52  56  46\n",
      "   54  49  51  47  55  55  54  42  51  56  55  51  54  51  60  62  43  55\n",
      "   56  61  52  69  64  46  54  47  70]]\n"
     ]
    }
   ],
   "source": [
    "import numpy as np\n",
    "\n",
    "heights = [189, 170, 189, 163, 183, 171, 185, 168, 173, 183, 173, 173, 175, 178, 183, 193, 178, 173, 174, 183, 183, 180, 168, 180, 170, 178, 182, 180, 183, 178, 182, 188, 175, 179, 183, 193, 182, 183, 177, 185, 188, 188, 182, 185, 191]\n",
    "\n",
    "ages = [57, 61, 57, 57, 58, 57, 61, 54, 68, 51, 49, 64, 50, 48, 65, 52, 56, 46, 54, 49, 51, 47, 55, 55, 54, 42, 51, 56, 55, 51, 54, 51, 60, 62, 43, 55, 56, 61, 52, 69, 64, 46, 54, 47, 70]\n",
    "\n",
    "heights_and_ages = heights + ages \n",
    "# convert a list to a numpy array\n",
    "heights_and_ages_arr = np.array(heights_and_ages)\n",
    "print(heights_and_ages_arr.reshape((2,45)))"
   ]
  },
  {
   "cell_type": "code",
   "execution_count": 9,
   "id": "2772e62a",
   "metadata": {},
   "outputs": [
    {
     "name": "stdout",
     "output_type": "stream",
     "text": [
      "6\n",
      "(6,)\n",
      "[['a' 'b' 'c']\n",
      " ['x' 'y' 'z']]\n",
      "[['a' 'b']\n",
      " ['c' 'x']\n",
      " ['y' 'z']]\n",
      "[['a' 'b' 'c']\n",
      " ['x' 'y' 'z']]\n",
      "[['a' 'b']\n",
      " ['c' 'x']\n",
      " ['y' 'z']]\n"
     ]
    }
   ],
   "source": [
    "import numpy as np \n",
    "A = [\"a\",\"b\",\"c\"]\n",
    "B = [\"x\",\"y\",\"z\"] \n",
    "C = A + B #result: ['a', 'b', 'c', 'x', 'y', 'z']\n",
    "# convert a list into a numpy array \n",
    "D = np.array(C) \n",
    "print (D.size)\n",
    "print (D.shape) \n",
    "#D.reshape format is (row,column). Same as Matrices. \n",
    "print(D.reshape(2,3)) \n",
    "print(D.reshape(3,2)) \n",
    "#if you leave one entry as -1, numpy will automatically guess it for you. \n",
    "#As a result, the array size (number of elements of the array) is kept the same. \n",
    "print(D.reshape(2,-1))\n",
    "print(D.reshape(-1,2))"
   ]
  },
  {
   "cell_type": "code",
   "execution_count": null,
   "id": "7820f964",
   "metadata": {},
   "outputs": [],
   "source": []
  }
 ],
 "metadata": {
  "kernelspec": {
   "display_name": "Python 3 (ipykernel)",
   "language": "python",
   "name": "python3"
  },
  "language_info": {
   "codemirror_mode": {
    "name": "ipython",
    "version": 3
   },
   "file_extension": ".py",
   "mimetype": "text/x-python",
   "name": "python",
   "nbconvert_exporter": "python",
   "pygments_lexer": "ipython3",
   "version": "3.9.1"
  }
 },
 "nbformat": 4,
 "nbformat_minor": 5
}
